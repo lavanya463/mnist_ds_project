{
 "cells": [
  {
   "cell_type": "code",
   "execution_count": 52,
   "id": "1445a451-f375-497b-883e-2d10751ad8d2",
   "metadata": {},
   "outputs": [],
   "source": [
    "# Import necessary libraries for loading the dataset\n",
    "import torch\n",
    "from torchvision import datasets, transforms\n",
    "from custom_labels import label_mapping, apply_custom_labels"
   ]
  },
  {
   "cell_type": "markdown",
   "id": "84403ff7-257e-4b87-9aba-0c0001f1a85f",
   "metadata": {},
   "source": [
    "# Load the fashion MNIST dataset with custom labels"
   ]
  },
  {
   "cell_type": "code",
   "execution_count": 53,
   "id": "b04c588b-f2c3-4929-bf7e-01fca1e5ebf8",
   "metadata": {},
   "outputs": [],
   "source": [
    "data_path = '../data'\n",
    "\n",
    "transform = transforms.Compose([transforms.ToTensor()])\n",
    "\n",
    "train_dataset = datasets.FashionMNIST(root=data_path, train=True, transform=transform, download=True)\n",
    "train_dataset.targets = apply_custom_labels(train_dataset.targets)\n",
    "\n",
    "test_dataset = datasets.FashionMNIST(root=data_path, train=False, transform=transform, download=True)\n",
    "test_dataset.targets = apply_custom_labels(test_dataset.targets)"
   ]
  },
  {
   "cell_type": "markdown",
   "id": "b43463c5-5b9a-4487-874d-8e3dcd438f1b",
   "metadata": {},
   "source": [
    "# Deep Learning Experimentation and evaluation"
   ]
  },
  {
   "cell_type": "code",
   "execution_count": 67,
   "id": "7c61284d-ef15-4861-b963-99820edccaee",
   "metadata": {},
   "outputs": [],
   "source": [
    "# import libraries needed for the DL experiments and evaluation\n",
    "import torch.nn as nn\n",
    "from torch.utils.data import random_split\n",
    "import torch.optim as optim\n",
    "from torch.utils.data import DataLoader, TensorDataset\n",
    "import numpy as np\n",
    "import matplotlib.pyplot as plt\n",
    "from sklearn.metrics import accuracy_score, f1_score, precision_score, recall_score, confusion_matrix, classification_report\n",
    "import os"
   ]
  },
  {
   "cell_type": "code",
   "execution_count": 68,
   "id": "afa6099e-3028-4f8f-92c4-02c0bab15d50",
   "metadata": {},
   "outputs": [],
   "source": [
    "batch_size = 64\n",
    "\n",
    "# taking 20% of train as validation\n",
    "valid_size = int(0.2 * len(train_dataset)) \n",
    "train_size = len(train_dataset) - valid_size\n",
    "\n",
    "train_dataset, valid_dataset = random_split(train_dataset, [train_size, valid_size])\n",
    "\n",
    "batch_size = 64\n",
    "train_loader = DataLoader(train_dataset, batch_size=batch_size, shuffle=True)\n",
    "valid_loader = DataLoader(valid_dataset, batch_size=batch_size, shuffle=True)\n",
    "test_loader = DataLoader(test_dataset, batch_size=batch_size, shuffle=False)"
   ]
  },
  {
   "cell_type": "code",
   "execution_count": 69,
   "id": "c0c05dbb-af6b-4d12-a3e3-e1612b7b7825",
   "metadata": {},
   "outputs": [],
   "source": [
    "def train(model, train_loader, valid_loader, criterion, optimizer, num_epochs, save_dir=None):\n",
    "\n",
    "    train_losses = []\n",
    "    valid_losses = []\n",
    "    best_valid_loss = float('inf')\n",
    "\n",
    "    if save_dir and not os.path.exists(save_dir):\n",
    "        os.makedirs(save_dir)\n",
    "\n",
    "    for epoch in range(num_epochs):\n",
    "        model.train()\n",
    "        running_loss = 0.0\n",
    "\n",
    "        for inputs, labels in train_loader:\n",
    "            optimizer.zero_grad()\n",
    "            outputs = model(inputs)\n",
    "            loss = criterion(outputs, labels)\n",
    "            loss.backward()\n",
    "            optimizer.step()\n",
    "            running_loss += loss.item()\n",
    "\n",
    "        # Calculating average training loss for this epoch\n",
    "        avg_train_loss = running_loss / len(train_loader)\n",
    "        train_losses.append(avg_train_loss)\n",
    "\n",
    "        # Validation\n",
    "        model.eval()\n",
    "        valid_loss = 0.0\n",
    "\n",
    "        with torch.no_grad():\n",
    "            for inputs, labels in valid_loader:\n",
    "                outputs = model(inputs)\n",
    "                loss = criterion(outputs, labels)\n",
    "                valid_loss += loss.item()\n",
    "\n",
    "        # Calculating average validation loss for this epoch\n",
    "        avg_valid_loss = valid_loss / len(valid_loader)\n",
    "        valid_losses.append(avg_valid_loss)\n",
    "\n",
    "        print(f'Epoch {epoch + 1}/{num_epochs}, Train Loss: {avg_train_loss:.4f}, Valid Loss: {avg_valid_loss:.4f}')\n",
    "\n",
    "        # save model checkpoint\n",
    "        if save_dir and valid_loss < best_valid_loss:\n",
    "            best_valid_loss = valid_loss\n",
    "            checkpoint_path = os.path.join(save_dir, f'best_checkpoint.pth')\n",
    "            print(f\"Saving best checkpoint to {checkpoint_path}\")\n",
    "            torch.save(model.state_dict(), checkpoint_path)\n",
    "\n",
    "\n",
    "    # Plot training and validation curves\n",
    "    plt.figure(figsize=(10, 5))\n",
    "    plt.plot(range(1, num_epochs + 1), train_losses, label='Train Loss')\n",
    "    plt.plot(range(1, num_epochs + 1), valid_losses, label='Validation Loss')\n",
    "    plt.xlabel('Epoch')\n",
    "    plt.ylabel('Loss')\n",
    "    plt.title('Training and Validation Loss Curves')\n",
    "    plt.legend()\n",
    "    plt.grid(True)\n",
    "\n",
    "    if save_dir:\n",
    "        curve_path = os.path.join(save_dir, 'loss_curves.png')\n",
    "        plt.savefig(curve_path)\n",
    "    else:\n",
    "        plt.show()\n"
   ]
  },
  {
   "cell_type": "code",
   "execution_count": 74,
   "id": "2935a916-45f3-48f2-ad5e-602874984746",
   "metadata": {},
   "outputs": [],
   "source": [
    "def evaluate(model, test_loader, num_classes):\n",
    "    model.eval()\n",
    "    y_true = []\n",
    "    y_pred = []\n",
    "\n",
    "    with torch.no_grad():\n",
    "        for inputs, labels in test_loader:\n",
    "            outputs = model(inputs)\n",
    "            _, predicted = torch.max(outputs.data, 1)\n",
    "            y_true.extend(labels.numpy())\n",
    "            y_pred.extend(predicted.numpy())\n",
    "\n",
    "    accuracy = accuracy_score(y_true, y_pred)\n",
    "    f1 = f1_score(y_true, y_pred, average='weighted')\n",
    "    precision = precision_score(y_true, y_pred, average='weighted')\n",
    "    recall = recall_score(y_true, y_pred, average='weighted')\n",
    "    confusion = confusion_matrix(y_true, y_pred)\n",
    "\n",
    "    class_report = classification_report(y_true, y_pred, target_names=[f'Class {i}' for i in range(num_classes)])\n",
    "\n",
    "    print(f'Accuracy: {accuracy * 100:.2f}%')\n",
    "    print(f'F1 Score: {f1:.4f}')\n",
    "    print(f'Precision: {precision:.4f}')\n",
    "    print(f'Recall: {recall:.4f}')\n",
    "    print('\\nConfusion Matrix:')\n",
    "    print(confusion)\n",
    "    print('\\nClassification Report:')\n",
    "    print(class_report)\n"
   ]
  },
  {
   "cell_type": "markdown",
   "id": "39d0eddc-b3a1-4f7d-b797-9e27c5598ecd",
   "metadata": {},
   "source": [
    "### double CNN model"
   ]
  },
  {
   "cell_type": "code",
   "execution_count": 58,
   "id": "b3177110-f86c-4097-8f8f-49f6bac687aa",
   "metadata": {},
   "outputs": [],
   "source": [
    "class DoubleCNN(nn.Module):\n",
    "    def __init__(self):\n",
    "        super(DoubleCNN, self).__init__()\n",
    "        self.conv1 = nn.Conv2d(in_channels=1, out_channels=32, kernel_size=3)\n",
    "        self.conv2 = nn.Conv2d(in_channels=32, out_channels=64, kernel_size=3)\n",
    "        self.fc1 = nn.Linear(in_features=64 * 5 * 5, out_features=128)\n",
    "        self.fc2 = nn.Linear(in_features=128, out_features=len(label_mapping))\n",
    "\n",
    "    def forward(self, x):\n",
    "        x = torch.relu(self.conv1(x))\n",
    "        x = torch.max_pool2d(x, kernel_size=2)\n",
    "        x = torch.relu(self.conv2(x))\n",
    "        x = torch.max_pool2d(x, kernel_size=2)\n",
    "        x = x.view(-1, 64 * 5 * 5)\n",
    "        x = torch.relu(self.fc1(x))\n",
    "        x = self.fc2(x)\n",
    "        return x\n"
   ]
  },
  {
   "cell_type": "code",
   "execution_count": 59,
   "id": "8bf0ce60-ac05-479d-abe9-8bf528a32808",
   "metadata": {},
   "outputs": [
    {
     "name": "stdout",
     "output_type": "stream",
     "text": [
      "Epoch 1/10, Train Loss: 0.1786, Valid Loss: 0.1012\n",
      "Saving best checkpoint to ./outputs/best_checkpoint.pth\n",
      "Epoch 2/10, Train Loss: 0.0968, Valid Loss: 0.0904\n",
      "Saving best checkpoint to ./outputs/best_checkpoint.pth\n",
      "Epoch 3/10, Train Loss: 0.0777, Valid Loss: 0.0758\n",
      "Saving best checkpoint to ./outputs/best_checkpoint.pth\n",
      "Epoch 4/10, Train Loss: 0.0658, Valid Loss: 0.0697\n",
      "Saving best checkpoint to ./outputs/best_checkpoint.pth\n",
      "Epoch 5/10, Train Loss: 0.0573, Valid Loss: 0.0659\n",
      "Saving best checkpoint to ./outputs/best_checkpoint.pth\n",
      "Epoch 6/10, Train Loss: 0.0501, Valid Loss: 0.0675\n",
      "Epoch 7/10, Train Loss: 0.0433, Valid Loss: 0.0652\n",
      "Saving best checkpoint to ./outputs/best_checkpoint.pth\n",
      "Epoch 8/10, Train Loss: 0.0381, Valid Loss: 0.0705\n",
      "Epoch 9/10, Train Loss: 0.0346, Valid Loss: 0.0645\n",
      "Saving best checkpoint to ./outputs/best_checkpoint.pth\n",
      "Epoch 10/10, Train Loss: 0.0294, Valid Loss: 0.0709\n"
     ]
    },
    {
     "data": {
      "image/png": "[encoded data removed]",
      "text/plain": [
       "<Figure size 1000x500 with 1 Axes>"
      ]
     },
     "metadata": {},
     "output_type": "display_data"
    }
   ],
   "source": [
    "\n",
    "# Initialize the model\n",
    "double_cnn = DoubleCNN()\n",
    "\n",
    "# Define loss function and optimizer\n",
    "criterion = nn.CrossEntropyLoss()\n",
    "optimizer = optim.Adam(double_cnn.parameters(), lr=0.001)\n",
    "\n",
    "train(double_cnn, train_loader, valid_loader, criterion, optimizer, num_epochs=10,save_dir='./outputs')\n"
   ]
  },
  {
   "cell_type": "markdown",
   "id": "5f43c6b6-a389-44f4-ae43-924f784fd5fa",
   "metadata": {},
   "source": [
    "The above graph showcases that the model is overfitting, looking at the plot, we can fix the number of epochs to be 3."
   ]
  },
  {
   "cell_type": "code",
   "execution_count": 75,
   "id": "4a5bfe89-6df6-4804-a320-96fa5ee7afeb",
   "metadata": {},
   "outputs": [
    {
     "name": "stdout",
     "output_type": "stream",
     "text": [
      "Accuracy: 97.73%\n",
      "F1 Score: 0.9774\n",
      "Precision: 0.9775\n",
      "Recall: 0.9773\n",
      "\n",
      "Confusion Matrix:\n",
      "[[3904    0   86    2    8]\n",
      " [  15  975   10    0    0]\n",
      " [  75    4  920    0    1]\n",
      " [   1    0    1 2998    0]\n",
      " [  16    0    2    6  976]]\n",
      "\n",
      "Classification Report:\n",
      "              precision    recall  f1-score   support\n",
      "\n",
      "     Class 0       0.97      0.98      0.97      4000\n",
      "     Class 1       1.00      0.97      0.99      1000\n",
      "     Class 2       0.90      0.92      0.91      1000\n",
      "     Class 3       1.00      1.00      1.00      3000\n",
      "     Class 4       0.99      0.98      0.98      1000\n",
      "\n",
      "    accuracy                           0.98     10000\n",
      "   macro avg       0.97      0.97      0.97     10000\n",
      "weighted avg       0.98      0.98      0.98     10000\n",
      "\n"
     ]
    }
   ],
   "source": [
    "\n",
    "# Evaluate the baseline model\n",
    "evaluate(double_cnn, test_loader, num_classes=5)\n"
   ]
  },
  {
   "cell_type": "code",
   "execution_count": null,
   "id": "887af0b0-14ad-4263-9c10-f705d06e4599",
   "metadata": {},
   "outputs": [],
   "source": []
  }
 ],
 "metadata": {
  "kernelspec": {
   "display_name": "Python 3 (ipykernel)",
   "language": "python",
   "name": "python3"
  },
  "language_info": {
   "codemirror_mode": {
    "name": "ipython",
    "version": 3
   },
   "file_extension": ".py",
   "mimetype": "text/x-python",
   "name": "python",
   "nbconvert_exporter": "python",
   "pygments_lexer": "ipython3",
   "version": "3.10.10"
  }
 },
 "nbformat": 4,
 "nbformat_minor": 5
}
